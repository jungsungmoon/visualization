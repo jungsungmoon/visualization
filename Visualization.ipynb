{
  "nbformat": 4,
  "nbformat_minor": 0,
  "metadata": {
    "colab": {
      "name": "Visualization.ipynb",
      "provenance": [],
      "collapsed_sections": [],
      "mount_file_id": "1Y-K6I96-hzjAtrz48XtOz1Y2SzC2bbmU",
      "authorship_tag": "ABX9TyMvZUjJj9NAMI/kbOd8wVlE",
      "include_colab_link": true
    },
    "kernelspec": {
      "name": "python3",
      "display_name": "Python 3"
    },
    "language_info": {
      "name": "python"
    }
  },
  "cells": [
    {
      "cell_type": "markdown",
      "metadata": {
        "id": "view-in-github",
        "colab_type": "text"
      },
      "source": [
        "<a href=\"https://colab.research.google.com/github/jungsungmoon/visualization/blob/main/Visualization.ipynb\" target=\"_parent\"><img src=\"https://colab.research.google.com/assets/colab-badge.svg\" alt=\"Open In Colab\"/></a>"
      ]
    },
    {
      "cell_type": "code",
      "source": [
        "import matplotlib.pyplot as plt\n",
        "from numpy import array\n",
        "import pandas as pd\n",
        "from google.colab import drive\n",
        "import matplotlib as mpl\n",
        "from datetime import datetime"
      ],
      "metadata": {
        "id": "rHrNR2S9-SbX"
      },
      "execution_count": 190,
      "outputs": []
    },
    {
      "cell_type": "code",
      "source": [
        "credit = pd.read_csv('/content/drive/MyDrive/Visualization/credit.csv')\n",
        "stations = pd.read_csv('/content/drive/MyDrive/Visualization/stations.csv')\n",
        "trips = pd.read_csv('/content/drive/MyDrive/Visualization/trips.csv')"
      ],
      "metadata": {
        "id": "rx2Ena9b-3pq"
      },
      "execution_count": 191,
      "outputs": []
    },
    {
      "cell_type": "code",
      "source": [
        "credit.head(3)"
      ],
      "metadata": {
        "colab": {
          "base_uri": "https://localhost:8080/",
          "height": 143
        },
        "id": "m0TSXf3HK8I9",
        "outputId": "b45c4ae4-9203-4b53-c3a7-f5623d5dd971"
      },
      "execution_count": 192,
      "outputs": [
        {
          "output_type": "execute_result",
          "data": {
            "text/html": [
              "\n",
              "  <div id=\"df-dd9bf6b8-8f4a-4b4a-b726-a9633aa6e0a3\">\n",
              "    <div class=\"colab-df-container\">\n",
              "      <div>\n",
              "<style scoped>\n",
              "    .dataframe tbody tr th:only-of-type {\n",
              "        vertical-align: middle;\n",
              "    }\n",
              "\n",
              "    .dataframe tbody tr th {\n",
              "        vertical-align: top;\n",
              "    }\n",
              "\n",
              "    .dataframe thead th {\n",
              "        text-align: right;\n",
              "    }\n",
              "</style>\n",
              "<table border=\"1\" class=\"dataframe\">\n",
              "  <thead>\n",
              "    <tr style=\"text-align: right;\">\n",
              "      <th></th>\n",
              "      <th>Income</th>\n",
              "      <th>Limit</th>\n",
              "      <th>Rating</th>\n",
              "      <th>Cards</th>\n",
              "      <th>Age</th>\n",
              "      <th>Education</th>\n",
              "      <th>Gender</th>\n",
              "      <th>Student</th>\n",
              "      <th>Married</th>\n",
              "      <th>Ethnicity</th>\n",
              "      <th>Balance</th>\n",
              "    </tr>\n",
              "  </thead>\n",
              "  <tbody>\n",
              "    <tr>\n",
              "      <th>0</th>\n",
              "      <td>14.891</td>\n",
              "      <td>3606</td>\n",
              "      <td>283</td>\n",
              "      <td>2</td>\n",
              "      <td>34</td>\n",
              "      <td>11</td>\n",
              "      <td>Male</td>\n",
              "      <td>No</td>\n",
              "      <td>Yes</td>\n",
              "      <td>Caucasian</td>\n",
              "      <td>333</td>\n",
              "    </tr>\n",
              "    <tr>\n",
              "      <th>1</th>\n",
              "      <td>106.025</td>\n",
              "      <td>6645</td>\n",
              "      <td>483</td>\n",
              "      <td>3</td>\n",
              "      <td>82</td>\n",
              "      <td>15</td>\n",
              "      <td>Female</td>\n",
              "      <td>Yes</td>\n",
              "      <td>Yes</td>\n",
              "      <td>Asian</td>\n",
              "      <td>903</td>\n",
              "    </tr>\n",
              "    <tr>\n",
              "      <th>2</th>\n",
              "      <td>104.593</td>\n",
              "      <td>7075</td>\n",
              "      <td>514</td>\n",
              "      <td>4</td>\n",
              "      <td>71</td>\n",
              "      <td>11</td>\n",
              "      <td>Male</td>\n",
              "      <td>No</td>\n",
              "      <td>No</td>\n",
              "      <td>Asian</td>\n",
              "      <td>580</td>\n",
              "    </tr>\n",
              "  </tbody>\n",
              "</table>\n",
              "</div>\n",
              "      <button class=\"colab-df-convert\" onclick=\"convertToInteractive('df-dd9bf6b8-8f4a-4b4a-b726-a9633aa6e0a3')\"\n",
              "              title=\"Convert this dataframe to an interactive table.\"\n",
              "              style=\"display:none;\">\n",
              "        \n",
              "  <svg xmlns=\"http://www.w3.org/2000/svg\" height=\"24px\"viewBox=\"0 0 24 24\"\n",
              "       width=\"24px\">\n",
              "    <path d=\"M0 0h24v24H0V0z\" fill=\"none\"/>\n",
              "    <path d=\"M18.56 5.44l.94 2.06.94-2.06 2.06-.94-2.06-.94-.94-2.06-.94 2.06-2.06.94zm-11 1L8.5 8.5l.94-2.06 2.06-.94-2.06-.94L8.5 2.5l-.94 2.06-2.06.94zm10 10l.94 2.06.94-2.06 2.06-.94-2.06-.94-.94-2.06-.94 2.06-2.06.94z\"/><path d=\"M17.41 7.96l-1.37-1.37c-.4-.4-.92-.59-1.43-.59-.52 0-1.04.2-1.43.59L10.3 9.45l-7.72 7.72c-.78.78-.78 2.05 0 2.83L4 21.41c.39.39.9.59 1.41.59.51 0 1.02-.2 1.41-.59l7.78-7.78 2.81-2.81c.8-.78.8-2.07 0-2.86zM5.41 20L4 18.59l7.72-7.72 1.47 1.35L5.41 20z\"/>\n",
              "  </svg>\n",
              "      </button>\n",
              "      \n",
              "  <style>\n",
              "    .colab-df-container {\n",
              "      display:flex;\n",
              "      flex-wrap:wrap;\n",
              "      gap: 12px;\n",
              "    }\n",
              "\n",
              "    .colab-df-convert {\n",
              "      background-color: #E8F0FE;\n",
              "      border: none;\n",
              "      border-radius: 50%;\n",
              "      cursor: pointer;\n",
              "      display: none;\n",
              "      fill: #1967D2;\n",
              "      height: 32px;\n",
              "      padding: 0 0 0 0;\n",
              "      width: 32px;\n",
              "    }\n",
              "\n",
              "    .colab-df-convert:hover {\n",
              "      background-color: #E2EBFA;\n",
              "      box-shadow: 0px 1px 2px rgba(60, 64, 67, 0.3), 0px 1px 3px 1px rgba(60, 64, 67, 0.15);\n",
              "      fill: #174EA6;\n",
              "    }\n",
              "\n",
              "    [theme=dark] .colab-df-convert {\n",
              "      background-color: #3B4455;\n",
              "      fill: #D2E3FC;\n",
              "    }\n",
              "\n",
              "    [theme=dark] .colab-df-convert:hover {\n",
              "      background-color: #434B5C;\n",
              "      box-shadow: 0px 1px 3px 1px rgba(0, 0, 0, 0.15);\n",
              "      filter: drop-shadow(0px 1px 2px rgba(0, 0, 0, 0.3));\n",
              "      fill: #FFFFFF;\n",
              "    }\n",
              "  </style>\n",
              "\n",
              "      <script>\n",
              "        const buttonEl =\n",
              "          document.querySelector('#df-dd9bf6b8-8f4a-4b4a-b726-a9633aa6e0a3 button.colab-df-convert');\n",
              "        buttonEl.style.display =\n",
              "          google.colab.kernel.accessAllowed ? 'block' : 'none';\n",
              "\n",
              "        async function convertToInteractive(key) {\n",
              "          const element = document.querySelector('#df-dd9bf6b8-8f4a-4b4a-b726-a9633aa6e0a3');\n",
              "          const dataTable =\n",
              "            await google.colab.kernel.invokeFunction('convertToInteractive',\n",
              "                                                     [key], {});\n",
              "          if (!dataTable) return;\n",
              "\n",
              "          const docLinkHtml = 'Like what you see? Visit the ' +\n",
              "            '<a target=\"_blank\" href=https://colab.research.google.com/notebooks/data_table.ipynb>data table notebook</a>'\n",
              "            + ' to learn more about interactive tables.';\n",
              "          element.innerHTML = '';\n",
              "          dataTable['output_type'] = 'display_data';\n",
              "          await google.colab.output.renderOutput(dataTable, element);\n",
              "          const docLink = document.createElement('div');\n",
              "          docLink.innerHTML = docLinkHtml;\n",
              "          element.appendChild(docLink);\n",
              "        }\n",
              "      </script>\n",
              "    </div>\n",
              "  </div>\n",
              "  "
            ],
            "text/plain": [
              "    Income  Limit  Rating  Cards  ...  Student  Married  Ethnicity Balance\n",
              "0   14.891   3606     283      2  ...       No      Yes  Caucasian     333\n",
              "1  106.025   6645     483      3  ...      Yes      Yes      Asian     903\n",
              "2  104.593   7075     514      4  ...       No       No      Asian     580\n",
              "\n",
              "[3 rows x 11 columns]"
            ]
          },
          "metadata": {},
          "execution_count": 192
        }
      ]
    },
    {
      "cell_type": "markdown",
      "source": [
        "## 1. income"
      ],
      "metadata": {
        "id": "x1LTTMFDK90I"
      }
    },
    {
      "cell_type": "code",
      "source": [
        "fig = plt.figure()\n",
        "ax = []\n",
        "\n",
        "x = range(0,2)\n",
        "gender = ['Male', 'Female']\n",
        "\n",
        "for i in range(1,7):\n",
        "    ax.append(fig.add_subplot(2,3,i))\n",
        "\n",
        "ax[0].bar(0, credit[(credit['Age'] < 20) & (credit['Gender'] == 'Male')]['Income'].mean(),\n",
        "        color = 'b', label='Male')\n",
        "ax[0].bar(1, credit[(credit['Age'] < 20) & (credit['Gender'] == 'Female')]['Income'].mean(),\n",
        "        color = 'r', label='Female')\n",
        "ax[0].set_xticks(x)\n",
        "ax[0].set_xticklabels(gender)\n",
        "ax[0].set_xlabel('gender')\n",
        "ax[0].set_ylabel('income')\n",
        "ax[0].set_title('difference income')\n",
        "ax[0].legend(loc=\"lower center\")\n",
        "\n",
        "ax[1].bar(0, credit[(credit['Age'] >= 20) & (credit['Age'] < 40) & (credit['Gender'] == 'Male')]['Income'].mean(),\n",
        "        color = 'b', label='Male')\n",
        "ax[1].bar(1, credit[(credit['Age'] >= 20) & (credit['Age'] < 40) & (credit['Gender'] == 'Female')]['Income'].mean(),\n",
        "        color = 'r', label='Female')\n",
        "ax[1].set_xticks(x)\n",
        "ax[1].set_xticklabels(gender)\n",
        "ax[1].set_xlabel('gender')\n",
        "ax[1].set_ylabel('income')\n",
        "ax[1].set_title('difference income')\n",
        "ax[1].legend(loc=\"lower center\")\n",
        "\n",
        "ax[2].bar(0, credit[(credit['Age'] >= 30) & (credit['Age'] < 50) & (credit['Gender'] == 'Male')]['Income'].mean(),\n",
        "        color = 'b', label='Male')\n",
        "ax[2].bar(1, credit[(credit['Age'] >= 30) & (credit['Age'] < 50) & (credit['Gender'] == 'Female')]['Income'].mean(),\n",
        "        color = 'r', label='Female')\n",
        "ax[2].set_xticks(x)\n",
        "ax[2].set_xticklabels(gender)\n",
        "ax[2].set_xlabel('gender')\n",
        "ax[2].set_ylabel('income')\n",
        "ax[2].set_title('difference income')\n",
        "ax[2].legend(loc=\"lower center\")\n",
        "\n",
        "ax[3].bar(0, credit[(credit['Age'] >= 40) & (credit['Age'] < 60) & (credit['Gender'] == 'Male')]['Income'].mean(),\n",
        "        color = 'b', label='Male')\n",
        "ax[3].bar(1, credit[(credit['Age'] >= 40) & (credit['Age'] < 60) & (credit['Gender'] == 'Female')]['Income'].mean(),\n",
        "        color = 'r', label='Female')\n",
        "ax[3].set_xticks(x)\n",
        "ax[3].set_xticklabels(gender)\n",
        "ax[3].set_xlabel('gender')\n",
        "ax[3].set_ylabel('income')\n",
        "ax[3].set_title('difference income')\n",
        "ax[3].legend(loc=\"lower center\")\n",
        "\n",
        "ax[4].bar(0, credit[(credit['Age'] >= 50) & (credit['Age'] < 70) & (credit['Gender'] == 'Male')]['Income'].mean(),\n",
        "        color = 'b', label='Male')\n",
        "ax[4].bar(1, credit[(credit['Age'] >= 50) & (credit['Age'] < 70) & (credit['Gender'] == 'Female')]['Income'].mean(),\n",
        "        color = 'r', label='Female')\n",
        "ax[4].set_xticks(x)\n",
        "ax[4].set_xticklabels(gender)\n",
        "ax[4].set_xlabel('gender')\n",
        "ax[4].set_ylabel('income')\n",
        "ax[4].set_title('difference income')\n",
        "ax[4].legend(loc=\"lower center\")\n",
        "\n",
        "ax[5].bar(0, credit[(credit['Age'] >= 60) & (credit['Gender'] == 'Male')]['Income'].mean(),\n",
        "        color = 'b', label='Male')\n",
        "ax[5].bar(1, credit[(credit['Age'] >= 60) & (credit['Gender'] == 'Female')]['Income'].mean(),\n",
        "        color = 'r', label='Female')\n",
        "ax[5].set_xticks(x)\n",
        "ax[5].set_xticklabels(gender)\n",
        "ax[5].set_xlabel('gender')\n",
        "ax[5].set_ylabel('income')\n",
        "ax[5].set_title('difference income')\n",
        "ax[5].legend(loc=\"lower center\")\n",
        "\n",
        "plt.tight_layout()\n",
        "\n",
        "plt.show()"
      ],
      "metadata": {
        "colab": {
          "base_uri": "https://localhost:8080/",
          "height": 370
        },
        "id": "tEHFbR_j_N88",
        "outputId": "08d63ce1-5821-4f4c-b881-e17f30a56526"
      },
      "execution_count": 193,
      "outputs": [
        {
          "output_type": "stream",
          "name": "stderr",
          "text": [
            "/usr/local/lib/python3.7/dist-packages/matplotlib/backends/backend_agg.py:214: RuntimeWarning: Glyph 8722 missing from current font.\n",
            "  font.set_text(s, 0.0, flags=flags)\n",
            "/usr/local/lib/python3.7/dist-packages/matplotlib/backends/backend_agg.py:183: RuntimeWarning: Glyph 8722 missing from current font.\n",
            "  font.set_text(s, 0, flags=flags)\n"
          ]
        },
        {
          "output_type": "display_data",
          "data": {
            "image/png": "[encoded data removed]",
            "text/plain": [
              "<Figure size 432x288 with 6 Axes>"
            ]
          },
          "metadata": {
            "needs_background": "light"
          }
        }
      ]
    },
    {
      "cell_type": "markdown",
      "source": [
        "### 분석\n",
        "\n",
        "- 1) 남성, 여성 모두 income이 발생하지 않았다.\n",
        "\n",
        "- 2) 20~30대 구간에서는 여성의 income이 남성의 income보다 10가량 높다.\n",
        "\n",
        "- 3) 30~40대 구간에서는 여성과 남성의 income모두 증가하였고, 여성의 income이 남성의 income보다 높다.\n",
        "\n",
        "- 4) 40~50대 구간에서는 남성의 income은 증가하였지만, 여성의 income은 감소하였고 두 성별의 income격차가 감소하였다.\n",
        "\n",
        "- 5) 50~60대 구간에서는 남성의 income은 증가하였지만, 여성의 income은 감소하였고 남성의 income이 여성의 income보다 높다.\n",
        "\n",
        "- 6) 60대 이상 구간에서는 두 성별의 격차가 증가하였고, 남성의 income이 여성의 income보다 높다."
      ],
      "metadata": {
        "id": "4-S3XQgiK2jD"
      }
    },
    {
      "cell_type": "markdown",
      "source": [
        "## 2. Balance vs Income"
      ],
      "metadata": {
        "id": "WLwefCvjPH6c"
      }
    },
    {
      "cell_type": "code",
      "source": [
        "plt.scatter(credit[credit['Student'] == 'Yes']['Balance'], credit[credit['Student'] == 'Yes']['Income'], \n",
        "            c='red', s=credit[credit['Student'] == 'Yes']['Rating']*0.2, alpha=0.6, label='Student')\n",
        "plt.scatter(credit[credit['Student'] == 'No']['Balance'], credit[credit['Student'] == 'No']['Income'], \n",
        "            c='blue', s=credit[credit['Student'] == 'No']['Rating']*0.2, alpha=0.6, label='Not Student')\n",
        "plt.xlabel('Balance')\n",
        "plt.ylabel('Income')\n",
        "plt.title('Balance vs Income')\n",
        "plt.legend()\n",
        "plt.show()"
      ],
      "metadata": {
        "colab": {
          "base_uri": "https://localhost:8080/",
          "height": 294
        },
        "id": "yS_ye16zLVeQ",
        "outputId": "8b0ef081-8337-442b-89cf-06484f45f80b"
      },
      "execution_count": 194,
      "outputs": [
        {
          "output_type": "display_data",
          "data": {
            "image/png": "[encoded data removed]",
            "text/plain": [
              "<Figure size 432x288 with 1 Axes>"
            ]
          },
          "metadata": {
            "needs_background": "light"
          }
        }
      ]
    },
    {
      "cell_type": "markdown",
      "source": [
        "### 분석\n",
        " - 학생이 아닌 경우 income이 높을수록 balance도 높아져서 양의 상관관계를 가지고 있다. \n",
        "\n",
        " - 학생의 경우 income과 balance모두 적기 때문에 약한 양의 상관관계를 가지고 있다."
      ],
      "metadata": {
        "id": "8BYyXLMhULVY"
      }
    },
    {
      "cell_type": "code",
      "source": [
        "stations"
      ],
      "metadata": {
        "colab": {
          "base_uri": "https://localhost:8080/",
          "height": 423
        },
        "id": "MSkoPepaPXmF",
        "outputId": "649bab90-65cc-4d63-e26f-f90829bf8766"
      },
      "execution_count": 195,
      "outputs": [
        {
          "output_type": "execute_result",
          "data": {
            "text/html": [
              "\n",
              "  <div id=\"df-4382cd8d-6a73-437d-b9ff-2a284b89c2b9\">\n",
              "    <div class=\"colab-df-container\">\n",
              "      <div>\n",
              "<style scoped>\n",
              "    .dataframe tbody tr th:only-of-type {\n",
              "        vertical-align: middle;\n",
              "    }\n",
              "\n",
              "    .dataframe tbody tr th {\n",
              "        vertical-align: top;\n",
              "    }\n",
              "\n",
              "    .dataframe thead th {\n",
              "        text-align: right;\n",
              "    }\n",
              "</style>\n",
              "<table border=\"1\" class=\"dataframe\">\n",
              "  <thead>\n",
              "    <tr style=\"text-align: right;\">\n",
              "      <th></th>\n",
              "      <th>id</th>\n",
              "      <th>station</th>\n",
              "      <th>municipality</th>\n",
              "      <th>lat</th>\n",
              "      <th>lng</th>\n",
              "    </tr>\n",
              "  </thead>\n",
              "  <tbody>\n",
              "    <tr>\n",
              "      <th>0</th>\n",
              "      <td>3</td>\n",
              "      <td>Colleges of the Fenway</td>\n",
              "      <td>Boston</td>\n",
              "      <td>42.340021</td>\n",
              "      <td>-71.100812</td>\n",
              "    </tr>\n",
              "    <tr>\n",
              "      <th>1</th>\n",
              "      <td>4</td>\n",
              "      <td>Tremont St. at Berkeley St.</td>\n",
              "      <td>Boston</td>\n",
              "      <td>42.345392</td>\n",
              "      <td>-71.069616</td>\n",
              "    </tr>\n",
              "    <tr>\n",
              "      <th>2</th>\n",
              "      <td>5</td>\n",
              "      <td>Northeastern U / North Parking Lot</td>\n",
              "      <td>Boston</td>\n",
              "      <td>42.341814</td>\n",
              "      <td>-71.090179</td>\n",
              "    </tr>\n",
              "    <tr>\n",
              "      <th>3</th>\n",
              "      <td>6</td>\n",
              "      <td>Cambridge St. at Joy St.</td>\n",
              "      <td>Boston</td>\n",
              "      <td>42.361285</td>\n",
              "      <td>-71.065140</td>\n",
              "    </tr>\n",
              "    <tr>\n",
              "      <th>4</th>\n",
              "      <td>7</td>\n",
              "      <td>Fan Pier</td>\n",
              "      <td>Boston</td>\n",
              "      <td>42.353412</td>\n",
              "      <td>-71.044624</td>\n",
              "    </tr>\n",
              "    <tr>\n",
              "      <th>...</th>\n",
              "      <td>...</td>\n",
              "      <td>...</td>\n",
              "      <td>...</td>\n",
              "      <td>...</td>\n",
              "      <td>...</td>\n",
              "    </tr>\n",
              "    <tr>\n",
              "      <th>137</th>\n",
              "      <td>141</td>\n",
              "      <td>Powder House Circle</td>\n",
              "      <td>Somerville</td>\n",
              "      <td>42.400877</td>\n",
              "      <td>-71.116772</td>\n",
              "    </tr>\n",
              "    <tr>\n",
              "      <th>138</th>\n",
              "      <td>142</td>\n",
              "      <td>Packard Ave / Powderhouse Blvd</td>\n",
              "      <td>Somerville</td>\n",
              "      <td>42.404490</td>\n",
              "      <td>-71.123413</td>\n",
              "    </tr>\n",
              "    <tr>\n",
              "      <th>139</th>\n",
              "      <td>143</td>\n",
              "      <td>Somerville Hospital at Highland Ave / Crocker St</td>\n",
              "      <td>Somerville</td>\n",
              "      <td>42.390820</td>\n",
              "      <td>-71.109420</td>\n",
              "    </tr>\n",
              "    <tr>\n",
              "      <th>140</th>\n",
              "      <td>144</td>\n",
              "      <td>Teele Square at 239 Holland St</td>\n",
              "      <td>Somerville</td>\n",
              "      <td>42.402763</td>\n",
              "      <td>-71.126908</td>\n",
              "    </tr>\n",
              "    <tr>\n",
              "      <th>141</th>\n",
              "      <td>145</td>\n",
              "      <td>Summer St at Cutter St</td>\n",
              "      <td>Somerville</td>\n",
              "      <td>42.394002</td>\n",
              "      <td>-71.120406</td>\n",
              "    </tr>\n",
              "  </tbody>\n",
              "</table>\n",
              "<p>142 rows × 5 columns</p>\n",
              "</div>\n",
              "      <button class=\"colab-df-convert\" onclick=\"convertToInteractive('df-4382cd8d-6a73-437d-b9ff-2a284b89c2b9')\"\n",
              "              title=\"Convert this dataframe to an interactive table.\"\n",
              "              style=\"display:none;\">\n",
              "        \n",
              "  <svg xmlns=\"http://www.w3.org/2000/svg\" height=\"24px\"viewBox=\"0 0 24 24\"\n",
              "       width=\"24px\">\n",
              "    <path d=\"M0 0h24v24H0V0z\" fill=\"none\"/>\n",
              "    <path d=\"M18.56 5.44l.94 2.06.94-2.06 2.06-.94-2.06-.94-.94-2.06-.94 2.06-2.06.94zm-11 1L8.5 8.5l.94-2.06 2.06-.94-2.06-.94L8.5 2.5l-.94 2.06-2.06.94zm10 10l.94 2.06.94-2.06 2.06-.94-2.06-.94-.94-2.06-.94 2.06-2.06.94z\"/><path d=\"M17.41 7.96l-1.37-1.37c-.4-.4-.92-.59-1.43-.59-.52 0-1.04.2-1.43.59L10.3 9.45l-7.72 7.72c-.78.78-.78 2.05 0 2.83L4 21.41c.39.39.9.59 1.41.59.51 0 1.02-.2 1.41-.59l7.78-7.78 2.81-2.81c.8-.78.8-2.07 0-2.86zM5.41 20L4 18.59l7.72-7.72 1.47 1.35L5.41 20z\"/>\n",
              "  </svg>\n",
              "      </button>\n",
              "      \n",
              "  <style>\n",
              "    .colab-df-container {\n",
              "      display:flex;\n",
              "      flex-wrap:wrap;\n",
              "      gap: 12px;\n",
              "    }\n",
              "\n",
              "    .colab-df-convert {\n",
              "      background-color: #E8F0FE;\n",
              "      border: none;\n",
              "      border-radius: 50%;\n",
              "      cursor: pointer;\n",
              "      display: none;\n",
              "      fill: #1967D2;\n",
              "      height: 32px;\n",
              "      padding: 0 0 0 0;\n",
              "      width: 32px;\n",
              "    }\n",
              "\n",
              "    .colab-df-convert:hover {\n",
              "      background-color: #E2EBFA;\n",
              "      box-shadow: 0px 1px 2px rgba(60, 64, 67, 0.3), 0px 1px 3px 1px rgba(60, 64, 67, 0.15);\n",
              "      fill: #174EA6;\n",
              "    }\n",
              "\n",
              "    [theme=dark] .colab-df-convert {\n",
              "      background-color: #3B4455;\n",
              "      fill: #D2E3FC;\n",
              "    }\n",
              "\n",
              "    [theme=dark] .colab-df-convert:hover {\n",
              "      background-color: #434B5C;\n",
              "      box-shadow: 0px 1px 3px 1px rgba(0, 0, 0, 0.15);\n",
              "      filter: drop-shadow(0px 1px 2px rgba(0, 0, 0, 0.3));\n",
              "      fill: #FFFFFF;\n",
              "    }\n",
              "  </style>\n",
              "\n",
              "      <script>\n",
              "        const buttonEl =\n",
              "          document.querySelector('#df-4382cd8d-6a73-437d-b9ff-2a284b89c2b9 button.colab-df-convert');\n",
              "        buttonEl.style.display =\n",
              "          google.colab.kernel.accessAllowed ? 'block' : 'none';\n",
              "\n",
              "        async function convertToInteractive(key) {\n",
              "          const element = document.querySelector('#df-4382cd8d-6a73-437d-b9ff-2a284b89c2b9');\n",
              "          const dataTable =\n",
              "            await google.colab.kernel.invokeFunction('convertToInteractive',\n",
              "                                                     [key], {});\n",
              "          if (!dataTable) return;\n",
              "\n",
              "          const docLinkHtml = 'Like what you see? Visit the ' +\n",
              "            '<a target=\"_blank\" href=https://colab.research.google.com/notebooks/data_table.ipynb>data table notebook</a>'\n",
              "            + ' to learn more about interactive tables.';\n",
              "          element.innerHTML = '';\n",
              "          dataTable['output_type'] = 'display_data';\n",
              "          await google.colab.output.renderOutput(dataTable, element);\n",
              "          const docLink = document.createElement('div');\n",
              "          docLink.innerHTML = docLinkHtml;\n",
              "          element.appendChild(docLink);\n",
              "        }\n",
              "      </script>\n",
              "    </div>\n",
              "  </div>\n",
              "  "
            ],
            "text/plain": [
              "      id  ...        lng\n",
              "0      3  ... -71.100812\n",
              "1      4  ... -71.069616\n",
              "2      5  ... -71.090179\n",
              "3      6  ... -71.065140\n",
              "4      7  ... -71.044624\n",
              "..   ...  ...        ...\n",
              "137  141  ... -71.116772\n",
              "138  142  ... -71.123413\n",
              "139  143  ... -71.109420\n",
              "140  144  ... -71.126908\n",
              "141  145  ... -71.120406\n",
              "\n",
              "[142 rows x 5 columns]"
            ]
          },
          "metadata": {},
          "execution_count": 195
        }
      ]
    },
    {
      "cell_type": "code",
      "source": [
        "stations['id'] = stations['id'].astype(int)"
      ],
      "metadata": {
        "id": "m6SfMtlsPhSJ"
      },
      "execution_count": 196,
      "outputs": []
    },
    {
      "cell_type": "markdown",
      "source": [
        "## 3. station"
      ],
      "metadata": {
        "id": "E_2yYNqyP1UC"
      }
    },
    {
      "cell_type": "markdown",
      "source": [
        "### - start_station을 기준으로 하여 이용횟수가 가장 많은 station 5개의 이름을 출력하시오"
      ],
      "metadata": {
        "id": "AM-FLHzGSpr8"
      }
    },
    {
      "cell_type": "code",
      "source": [
        "temp = pd.DataFrame(trips.groupby('start_station').size().sort_values(ascending=False)).reset_index(drop=False)[:5]"
      ],
      "metadata": {
        "id": "radiGD9hRost"
      },
      "execution_count": 197,
      "outputs": []
    },
    {
      "cell_type": "code",
      "source": [
        "temp['start_station'] = temp['start_station'].astype(int)"
      ],
      "metadata": {
        "id": "_IhPwrsSR_gG"
      },
      "execution_count": 198,
      "outputs": []
    },
    {
      "cell_type": "code",
      "source": [
        "result = pd.merge(temp, stations, how='left', left_on='start_station', right_on='id')"
      ],
      "metadata": {
        "id": "ZySgDJ8sSFFX"
      },
      "execution_count": 199,
      "outputs": []
    },
    {
      "cell_type": "code",
      "source": [
        "result['station']"
      ],
      "metadata": {
        "colab": {
          "base_uri": "https://localhost:8080/"
        },
        "id": "zizjChtVSkEh",
        "outputId": "3a0be177-711f-48f4-bb80-b77bfc79b421"
      },
      "execution_count": 200,
      "outputs": [
        {
          "output_type": "execute_result",
          "data": {
            "text/plain": [
              "0           South Station - 700 Atlantic Ave.\n",
              "1    Boston Public Library - 700 Boylston St.\n",
              "2                        Beacon St / Mass Ave\n",
              "3                MIT at Mass Ave / Amherst St\n",
              "4                Back Bay / South End Station\n",
              "Name: station, dtype: object"
            ]
          },
          "metadata": {},
          "execution_count": 200
        }
      ]
    },
    {
      "cell_type": "markdown",
      "source": [
        "### - 위에서 도출한 상위 5개의 station 각각에 대하여 이용자 연령에 따른 히스토그램을 그리시오."
      ],
      "metadata": {
        "id": "QyAQxerASrm7"
      }
    },
    {
      "cell_type": "code",
      "source": [
        "fig = plt.figure()\n",
        "ax = []\n",
        "\n",
        "for i in range(1,6):\n",
        "    ax.append(fig.add_subplot(2,3,i))\n",
        "\n",
        "for i in range(0,5):\n",
        "  ax[i].hist(trips[trips['start_station'] == result['start_station'].iloc[i]]['birth_date'])\n",
        "  ax[i].set_title(result['start_station'].iloc[i])\n",
        "  ax[i].set_xlabel('birth date')\n",
        "  ax[i].set_ylabel('number of use')\n",
        "\n",
        "plt.tight_layout()\n",
        "plt.show()"
      ],
      "metadata": {
        "colab": {
          "base_uri": "https://localhost:8080/",
          "height": 297
        },
        "id": "29nuEOrhVnhy",
        "outputId": "fbd30b39-db53-47ef-8589-cd81c99aa5b4"
      },
      "execution_count": 201,
      "outputs": [
        {
          "output_type": "display_data",
          "data": {
            "image/png": "[encoded data removed]",
            "text/plain": [
              "<Figure size 432x288 with 5 Axes>"
            ]
          },
          "metadata": {
            "needs_background": "light"
          }
        }
      ]
    },
    {
      "cell_type": "markdown",
      "source": [
        "## 4. line"
      ],
      "metadata": {
        "id": "X6qfzUXUWz23"
      }
    },
    {
      "cell_type": "code",
      "source": [
        "def date_to_year(text:str):\n",
        "  return text.split('-')[0]\n",
        "\n",
        "def date_to_month(text:str):\n",
        "  return text.split('-')[1]\n",
        "\n",
        "trips['year'] = trips['start_date'].map(date_to_year)\n",
        "trips['month'] = trips['start_date'].map(date_to_month)\n",
        "trips['year_month'] = trips['year'] + '-' + trips['month']"
      ],
      "metadata": {
        "id": "cmmi0pKjXTFz"
      },
      "execution_count": 202,
      "outputs": []
    },
    {
      "cell_type": "code",
      "source": [
        "trips.head(3)"
      ],
      "metadata": {
        "colab": {
          "base_uri": "https://localhost:8080/",
          "height": 143
        },
        "id": "dnxMqiDfbQ4-",
        "outputId": "fc563ed6-c4d7-426c-e92f-99f103400d6a"
      },
      "execution_count": 206,
      "outputs": [
        {
          "output_type": "execute_result",
          "data": {
            "text/html": [
              "\n",
              "  <div id=\"df-0bc89e44-6c4e-4716-a216-1bf5404aafe3\">\n",
              "    <div class=\"colab-df-container\">\n",
              "      <div>\n",
              "<style scoped>\n",
              "    .dataframe tbody tr th:only-of-type {\n",
              "        vertical-align: middle;\n",
              "    }\n",
              "\n",
              "    .dataframe tbody tr th {\n",
              "        vertical-align: top;\n",
              "    }\n",
              "\n",
              "    .dataframe thead th {\n",
              "        text-align: right;\n",
              "    }\n",
              "</style>\n",
              "<table border=\"1\" class=\"dataframe\">\n",
              "  <thead>\n",
              "    <tr style=\"text-align: right;\">\n",
              "      <th></th>\n",
              "      <th>id</th>\n",
              "      <th>duration</th>\n",
              "      <th>start_date</th>\n",
              "      <th>start_station</th>\n",
              "      <th>end_date</th>\n",
              "      <th>end_station</th>\n",
              "      <th>bike_number</th>\n",
              "      <th>sub_type</th>\n",
              "      <th>zip_code</th>\n",
              "      <th>birth_date</th>\n",
              "      <th>gender</th>\n",
              "      <th>year</th>\n",
              "      <th>month</th>\n",
              "      <th>year_month</th>\n",
              "    </tr>\n",
              "  </thead>\n",
              "  <tbody>\n",
              "    <tr>\n",
              "      <th>0</th>\n",
              "      <td>1</td>\n",
              "      <td>9</td>\n",
              "      <td>2011-07-28 10:12:00</td>\n",
              "      <td>23.0</td>\n",
              "      <td>2011-07-28 10:12:00</td>\n",
              "      <td>23.0</td>\n",
              "      <td>B00468</td>\n",
              "      <td>Registered</td>\n",
              "      <td>'97217</td>\n",
              "      <td>1976.0</td>\n",
              "      <td>Male</td>\n",
              "      <td>2011</td>\n",
              "      <td>07</td>\n",
              "      <td>2011-07</td>\n",
              "    </tr>\n",
              "    <tr>\n",
              "      <th>1</th>\n",
              "      <td>2</td>\n",
              "      <td>220</td>\n",
              "      <td>2011-07-28 10:21:00</td>\n",
              "      <td>23.0</td>\n",
              "      <td>2011-07-28 10:25:00</td>\n",
              "      <td>23.0</td>\n",
              "      <td>B00554</td>\n",
              "      <td>Registered</td>\n",
              "      <td>'02215</td>\n",
              "      <td>1966.0</td>\n",
              "      <td>Male</td>\n",
              "      <td>2011</td>\n",
              "      <td>07</td>\n",
              "      <td>2011-07</td>\n",
              "    </tr>\n",
              "    <tr>\n",
              "      <th>2</th>\n",
              "      <td>3</td>\n",
              "      <td>56</td>\n",
              "      <td>2011-07-28 10:33:00</td>\n",
              "      <td>23.0</td>\n",
              "      <td>2011-07-28 10:34:00</td>\n",
              "      <td>23.0</td>\n",
              "      <td>B00456</td>\n",
              "      <td>Registered</td>\n",
              "      <td>'02108</td>\n",
              "      <td>1943.0</td>\n",
              "      <td>Male</td>\n",
              "      <td>2011</td>\n",
              "      <td>07</td>\n",
              "      <td>2011-07</td>\n",
              "    </tr>\n",
              "  </tbody>\n",
              "</table>\n",
              "</div>\n",
              "      <button class=\"colab-df-convert\" onclick=\"convertToInteractive('df-0bc89e44-6c4e-4716-a216-1bf5404aafe3')\"\n",
              "              title=\"Convert this dataframe to an interactive table.\"\n",
              "              style=\"display:none;\">\n",
              "        \n",
              "  <svg xmlns=\"http://www.w3.org/2000/svg\" height=\"24px\"viewBox=\"0 0 24 24\"\n",
              "       width=\"24px\">\n",
              "    <path d=\"M0 0h24v24H0V0z\" fill=\"none\"/>\n",
              "    <path d=\"M18.56 5.44l.94 2.06.94-2.06 2.06-.94-2.06-.94-.94-2.06-.94 2.06-2.06.94zm-11 1L8.5 8.5l.94-2.06 2.06-.94-2.06-.94L8.5 2.5l-.94 2.06-2.06.94zm10 10l.94 2.06.94-2.06 2.06-.94-2.06-.94-.94-2.06-.94 2.06-2.06.94z\"/><path d=\"M17.41 7.96l-1.37-1.37c-.4-.4-.92-.59-1.43-.59-.52 0-1.04.2-1.43.59L10.3 9.45l-7.72 7.72c-.78.78-.78 2.05 0 2.83L4 21.41c.39.39.9.59 1.41.59.51 0 1.02-.2 1.41-.59l7.78-7.78 2.81-2.81c.8-.78.8-2.07 0-2.86zM5.41 20L4 18.59l7.72-7.72 1.47 1.35L5.41 20z\"/>\n",
              "  </svg>\n",
              "      </button>\n",
              "      \n",
              "  <style>\n",
              "    .colab-df-container {\n",
              "      display:flex;\n",
              "      flex-wrap:wrap;\n",
              "      gap: 12px;\n",
              "    }\n",
              "\n",
              "    .colab-df-convert {\n",
              "      background-color: #E8F0FE;\n",
              "      border: none;\n",
              "      border-radius: 50%;\n",
              "      cursor: pointer;\n",
              "      display: none;\n",
              "      fill: #1967D2;\n",
              "      height: 32px;\n",
              "      padding: 0 0 0 0;\n",
              "      width: 32px;\n",
              "    }\n",
              "\n",
              "    .colab-df-convert:hover {\n",
              "      background-color: #E2EBFA;\n",
              "      box-shadow: 0px 1px 2px rgba(60, 64, 67, 0.3), 0px 1px 3px 1px rgba(60, 64, 67, 0.15);\n",
              "      fill: #174EA6;\n",
              "    }\n",
              "\n",
              "    [theme=dark] .colab-df-convert {\n",
              "      background-color: #3B4455;\n",
              "      fill: #D2E3FC;\n",
              "    }\n",
              "\n",
              "    [theme=dark] .colab-df-convert:hover {\n",
              "      background-color: #434B5C;\n",
              "      box-shadow: 0px 1px 3px 1px rgba(0, 0, 0, 0.15);\n",
              "      filter: drop-shadow(0px 1px 2px rgba(0, 0, 0, 0.3));\n",
              "      fill: #FFFFFF;\n",
              "    }\n",
              "  </style>\n",
              "\n",
              "      <script>\n",
              "        const buttonEl =\n",
              "          document.querySelector('#df-0bc89e44-6c4e-4716-a216-1bf5404aafe3 button.colab-df-convert');\n",
              "        buttonEl.style.display =\n",
              "          google.colab.kernel.accessAllowed ? 'block' : 'none';\n",
              "\n",
              "        async function convertToInteractive(key) {\n",
              "          const element = document.querySelector('#df-0bc89e44-6c4e-4716-a216-1bf5404aafe3');\n",
              "          const dataTable =\n",
              "            await google.colab.kernel.invokeFunction('convertToInteractive',\n",
              "                                                     [key], {});\n",
              "          if (!dataTable) return;\n",
              "\n",
              "          const docLinkHtml = 'Like what you see? Visit the ' +\n",
              "            '<a target=\"_blank\" href=https://colab.research.google.com/notebooks/data_table.ipynb>data table notebook</a>'\n",
              "            + ' to learn more about interactive tables.';\n",
              "          element.innerHTML = '';\n",
              "          dataTable['output_type'] = 'display_data';\n",
              "          await google.colab.output.renderOutput(dataTable, element);\n",
              "          const docLink = document.createElement('div');\n",
              "          docLink.innerHTML = docLinkHtml;\n",
              "          element.appendChild(docLink);\n",
              "        }\n",
              "      </script>\n",
              "    </div>\n",
              "  </div>\n",
              "  "
            ],
            "text/plain": [
              "   id  duration           start_date  ...  year month  year_month\n",
              "0   1         9  2011-07-28 10:12:00  ...  2011    07     2011-07\n",
              "1   2       220  2011-07-28 10:21:00  ...  2011    07     2011-07\n",
              "2   3        56  2011-07-28 10:33:00  ...  2011    07     2011-07\n",
              "\n",
              "[3 rows x 14 columns]"
            ]
          },
          "metadata": {},
          "execution_count": 206
        }
      ]
    },
    {
      "cell_type": "code",
      "source": [
        "dates = trips['year_month'].unique()\n",
        "dates"
      ],
      "metadata": {
        "colab": {
          "base_uri": "https://localhost:8080/"
        },
        "id": "eCvSHvj_Y1uN",
        "outputId": "0910e9e2-3dad-46c0-9ae9-3940bbac1832"
      },
      "execution_count": 203,
      "outputs": [
        {
          "output_type": "execute_result",
          "data": {
            "text/plain": [
              "array(['2011-07', '2011-08', '2011-09', '2011-10', '2011-11', '2012-03',\n",
              "       '2012-04', '2012-05', '2012-06', '2012-07', '2012-08', '2012-09',\n",
              "       '2012-10', '2012-11', '2013-04', '2013-05', '2013-06', '2013-07',\n",
              "       '2013-08', '2013-09', '2013-10', '2013-11'], dtype=object)"
            ]
          },
          "metadata": {},
          "execution_count": 203
        }
      ]
    },
    {
      "cell_type": "code",
      "source": [
        "num_use = trips.groupby(['year', 'month']).size()\n",
        "num_use"
      ],
      "metadata": {
        "colab": {
          "base_uri": "https://localhost:8080/"
        },
        "id": "wt6dK68UYrPi",
        "outputId": "85a9d865-9f55-44ca-fea5-6a28b379e30c"
      },
      "execution_count": 207,
      "outputs": [
        {
          "output_type": "execute_result",
          "data": {
            "text/plain": [
              "year  month\n",
              "2011  07         2618\n",
              "      08        35117\n",
              "      09        38184\n",
              "      10        35691\n",
              "      11        24782\n",
              "2012  03        14318\n",
              "      04        44154\n",
              "      05        53447\n",
              "      06        55704\n",
              "      07        69987\n",
              "      08        85012\n",
              "      09        83891\n",
              "      10        77123\n",
              "      11        47566\n",
              "2013  04        63809\n",
              "      05        98037\n",
              "      06       109047\n",
              "      07       131755\n",
              "      08       148222\n",
              "      09       139906\n",
              "      10       138910\n",
              "      11        72721\n",
              "dtype: int64"
            ]
          },
          "metadata": {},
          "execution_count": 207
        }
      ]
    },
    {
      "cell_type": "code",
      "source": [
        "plt.plot(dates, num_use)\n",
        "plt.xticks(rotation = 90)\n",
        "plt.title('Monthly usage')\n",
        "plt.xlabel('year_month')\n",
        "plt.ylabel('usage')\n",
        "plt.show()"
      ],
      "metadata": {
        "colab": {
          "base_uri": "https://localhost:8080/",
          "height": 326
        },
        "id": "hgp3kYUbaQHA",
        "outputId": "13749667-4e6f-4c0a-eb1e-b7f16efee885"
      },
      "execution_count": 205,
      "outputs": [
        {
          "output_type": "display_data",
          "data": {
            "image/png": "[encoded data removed]",
            "text/plain": [
              "<Figure size 432x288 with 1 Axes>"
            ]
          },
          "metadata": {
            "needs_background": "light"
          }
        }
      ]
    }
  ]
}